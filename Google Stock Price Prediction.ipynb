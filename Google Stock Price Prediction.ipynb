{
 "cells": [
  {
   "cell_type": "code",
   "execution_count": 2,
   "metadata": {},
   "outputs": [],
   "source": [
    "import numpy as np \n",
    "import pandas as pd \n",
    "import matplotlib.pyplot as plt \n",
    "from sklearn.preprocessing import MinMaxScaler\n",
    "from keras.models import Sequential\n",
    "from keras.layers import Dense,LSTM,Dropout"
   ]
  },
  {
   "cell_type": "code",
   "execution_count": 3,
   "metadata": {},
   "outputs": [
    {
     "data": {
      "text/html": [
       "<div>\n",
       "<style scoped>\n",
       "    .dataframe tbody tr th:only-of-type {\n",
       "        vertical-align: middle;\n",
       "    }\n",
       "\n",
       "    .dataframe tbody tr th {\n",
       "        vertical-align: top;\n",
       "    }\n",
       "\n",
       "    .dataframe thead th {\n",
       "        text-align: right;\n",
       "    }\n",
       "</style>\n",
       "<table border=\"1\" class=\"dataframe\">\n",
       "  <thead>\n",
       "    <tr style=\"text-align: right;\">\n",
       "      <th></th>\n",
       "      <th>Date</th>\n",
       "      <th>Open</th>\n",
       "      <th>High</th>\n",
       "      <th>Low</th>\n",
       "      <th>Close</th>\n",
       "      <th>Volume</th>\n",
       "    </tr>\n",
       "  </thead>\n",
       "  <tbody>\n",
       "    <tr>\n",
       "      <th>0</th>\n",
       "      <td>1/3/2012</td>\n",
       "      <td>325.25</td>\n",
       "      <td>332.83</td>\n",
       "      <td>324.97</td>\n",
       "      <td>663.59</td>\n",
       "      <td>7,380,500</td>\n",
       "    </tr>\n",
       "    <tr>\n",
       "      <th>1</th>\n",
       "      <td>1/4/2012</td>\n",
       "      <td>331.27</td>\n",
       "      <td>333.87</td>\n",
       "      <td>329.08</td>\n",
       "      <td>666.45</td>\n",
       "      <td>5,749,400</td>\n",
       "    </tr>\n",
       "    <tr>\n",
       "      <th>2</th>\n",
       "      <td>1/5/2012</td>\n",
       "      <td>329.83</td>\n",
       "      <td>330.75</td>\n",
       "      <td>326.89</td>\n",
       "      <td>657.21</td>\n",
       "      <td>6,590,300</td>\n",
       "    </tr>\n",
       "    <tr>\n",
       "      <th>3</th>\n",
       "      <td>1/6/2012</td>\n",
       "      <td>328.34</td>\n",
       "      <td>328.77</td>\n",
       "      <td>323.68</td>\n",
       "      <td>648.24</td>\n",
       "      <td>5,405,900</td>\n",
       "    </tr>\n",
       "    <tr>\n",
       "      <th>4</th>\n",
       "      <td>1/9/2012</td>\n",
       "      <td>322.04</td>\n",
       "      <td>322.29</td>\n",
       "      <td>309.46</td>\n",
       "      <td>620.76</td>\n",
       "      <td>11,688,800</td>\n",
       "    </tr>\n",
       "  </tbody>\n",
       "</table>\n",
       "</div>"
      ],
      "text/plain": [
       "       Date    Open    High     Low   Close      Volume\n",
       "0  1/3/2012  325.25  332.83  324.97  663.59   7,380,500\n",
       "1  1/4/2012  331.27  333.87  329.08  666.45   5,749,400\n",
       "2  1/5/2012  329.83  330.75  326.89  657.21   6,590,300\n",
       "3  1/6/2012  328.34  328.77  323.68  648.24   5,405,900\n",
       "4  1/9/2012  322.04  322.29  309.46  620.76  11,688,800"
      ]
     },
     "execution_count": 3,
     "metadata": {},
     "output_type": "execute_result"
    }
   ],
   "source": [
    "data = pd.read_csv('Google_train_data.csv')\n",
    "data.head()"
   ]
  },
  {
   "cell_type": "code",
   "execution_count": 4,
   "metadata": {},
   "outputs": [
    {
     "name": "stdout",
     "output_type": "stream",
     "text": [
      "<class 'pandas.core.frame.DataFrame'>\n",
      "RangeIndex: 1258 entries, 0 to 1257\n",
      "Data columns (total 6 columns):\n",
      " #   Column  Non-Null Count  Dtype  \n",
      "---  ------  --------------  -----  \n",
      " 0   Date    1258 non-null   object \n",
      " 1   Open    1258 non-null   float64\n",
      " 2   High    1258 non-null   float64\n",
      " 3   Low     1258 non-null   float64\n",
      " 4   Close   1258 non-null   object \n",
      " 5   Volume  1258 non-null   object \n",
      "dtypes: float64(3), object(3)\n",
      "memory usage: 59.1+ KB\n"
     ]
    }
   ],
   "source": [
    "data.info()"
   ]
  },
  {
   "cell_type": "code",
   "execution_count": 5,
   "metadata": {},
   "outputs": [],
   "source": [
    "data[\"Close\"]=pd.to_numeric(data.Close,errors='coerce')\n",
    "data = data.dropna()\n",
    "trainData = data.iloc[:,4:5].values"
   ]
  },
  {
   "cell_type": "code",
   "execution_count": 6,
   "metadata": {},
   "outputs": [
    {
     "name": "stdout",
     "output_type": "stream",
     "text": [
      "<class 'pandas.core.frame.DataFrame'>\n",
      "Int64Index: 1149 entries, 0 to 1257\n",
      "Data columns (total 6 columns):\n",
      " #   Column  Non-Null Count  Dtype  \n",
      "---  ------  --------------  -----  \n",
      " 0   Date    1149 non-null   object \n",
      " 1   Open    1149 non-null   float64\n",
      " 2   High    1149 non-null   float64\n",
      " 3   Low     1149 non-null   float64\n",
      " 4   Close   1149 non-null   float64\n",
      " 5   Volume  1149 non-null   object \n",
      "dtypes: float64(4), object(2)\n",
      "memory usage: 62.8+ KB\n"
     ]
    }
   ],
   "source": [
    "data.info()"
   ]
  },
  {
   "cell_type": "code",
   "execution_count": 7,
   "metadata": {},
   "outputs": [
    {
     "data": {
      "text/plain": [
       "(1149, 1)"
      ]
     },
     "execution_count": 7,
     "metadata": {},
     "output_type": "execute_result"
    }
   ],
   "source": [
    "sc = MinMaxScaler(feature_range=(0,1))\n",
    "trainData = sc.fit_transform(trainData)\n",
    "trainData.shape"
   ]
  },
  {
   "cell_type": "code",
   "execution_count": 8,
   "metadata": {},
   "outputs": [],
   "source": [
    "X_train = []\n",
    "y_train = []\n",
    "\n",
    "for i in range (60,1149): #60 : timestep // 1149 : length of the data\n",
    "    X_train.append(trainData[i-60:i,0]) \n",
    "    y_train.append(trainData[i,0])\n",
    "\n",
    "X_train,y_train = np.array(X_train),np.array(y_train)"
   ]
  },
  {
   "cell_type": "code",
   "execution_count": 9,
   "metadata": {},
   "outputs": [
    {
     "data": {
      "text/plain": [
       "(1089, 60, 1)"
      ]
     },
     "execution_count": 9,
     "metadata": {},
     "output_type": "execute_result"
    }
   ],
   "source": [
    "X_train = np.reshape(X_train,(X_train.shape[0],X_train.shape[1],1)) #adding the batch_size axis\n",
    "X_train.shape"
   ]
  },
  {
   "cell_type": "code",
   "execution_count": 10,
   "metadata": {},
   "outputs": [],
   "source": [
    "model = Sequential()\n",
    "\n",
    "model.add(LSTM(units=100, return_sequences = True, input_shape =(X_train.shape[1],1)))\n",
    "model.add(Dropout(0.2))\n",
    "\n",
    "model.add(LSTM(units=100, return_sequences = True))\n",
    "model.add(Dropout(0.2))\n",
    "\n",
    "model.add(LSTM(units=100, return_sequences = True))\n",
    "model.add(Dropout(0.2))\n",
    "\n",
    "model.add(LSTM(units=100, return_sequences = False))\n",
    "model.add(Dropout(0.2))\n",
    "\n",
    "model.add(Dense(units =1))\n",
    "model.compile(optimizer='adam',loss=\"mean_squared_error\")"
   ]
  },
  {
   "cell_type": "code",
   "execution_count": 11,
   "metadata": {},
   "outputs": [
    {
     "name": "stdout",
     "output_type": "stream",
     "text": [
      "Epoch 1/20\n",
      "35/35 - 12s - loss: 0.0442 - 12s/epoch - 351ms/step\n",
      "Epoch 2/20\n",
      "35/35 - 5s - loss: 0.0110 - 5s/epoch - 136ms/step\n",
      "Epoch 3/20\n",
      "35/35 - 5s - loss: 0.0097 - 5s/epoch - 132ms/step\n",
      "Epoch 4/20\n",
      "35/35 - 4s - loss: 0.0095 - 4s/epoch - 124ms/step\n",
      "Epoch 5/20\n",
      "35/35 - 5s - loss: 0.0078 - 5s/epoch - 129ms/step\n",
      "Epoch 6/20\n",
      "35/35 - 4s - loss: 0.0093 - 4s/epoch - 125ms/step\n",
      "Epoch 7/20\n",
      "35/35 - 4s - loss: 0.0095 - 4s/epoch - 123ms/step\n",
      "Epoch 8/20\n",
      "35/35 - 4s - loss: 0.0061 - 4s/epoch - 124ms/step\n",
      "Epoch 9/20\n",
      "35/35 - 4s - loss: 0.0059 - 4s/epoch - 128ms/step\n",
      "Epoch 10/20\n",
      "35/35 - 5s - loss: 0.0058 - 5s/epoch - 136ms/step\n",
      "Epoch 11/20\n",
      "35/35 - 4s - loss: 0.0060 - 4s/epoch - 126ms/step\n",
      "Epoch 12/20\n",
      "35/35 - 5s - loss: 0.0061 - 5s/epoch - 134ms/step\n",
      "Epoch 13/20\n",
      "35/35 - 5s - loss: 0.0053 - 5s/epoch - 134ms/step\n",
      "Epoch 14/20\n",
      "35/35 - 5s - loss: 0.0095 - 5s/epoch - 132ms/step\n",
      "Epoch 15/20\n",
      "35/35 - 5s - loss: 0.0060 - 5s/epoch - 129ms/step\n",
      "Epoch 16/20\n",
      "35/35 - 5s - loss: 0.0051 - 5s/epoch - 134ms/step\n",
      "Epoch 17/20\n",
      "35/35 - 5s - loss: 0.0060 - 5s/epoch - 134ms/step\n",
      "Epoch 18/20\n",
      "35/35 - 5s - loss: 0.0054 - 5s/epoch - 132ms/step\n",
      "Epoch 19/20\n",
      "35/35 - 5s - loss: 0.0051 - 5s/epoch - 133ms/step\n",
      "Epoch 20/20\n",
      "35/35 - 5s - loss: 0.0045 - 5s/epoch - 131ms/step\n"
     ]
    }
   ],
   "source": [
    "hist = model.fit(X_train, y_train, epochs = 20, batch_size = 32, verbose=2)"
   ]
  },
  {
   "cell_type": "code",
   "execution_count": 12,
   "metadata": {},
   "outputs": [
    {
     "data": {
      "image/png": "[encoded data removed]",
      "text/plain": [
       "<Figure size 640x480 with 1 Axes>"
      ]
     },
     "metadata": {},
     "output_type": "display_data"
    }
   ],
   "source": [
    "plt.plot(hist.history['loss'])\n",
    "plt.title('Training Model Loss')\n",
    "plt.ylabel('Loss')\n",
    "plt.xlabel('Epoch')\n",
    "plt.legend(['Train'], loc='upper left')\n",
    "plt.show()"
   ]
  },
  {
   "cell_type": "code",
   "execution_count": 13,
   "metadata": {},
   "outputs": [
    {
     "data": {
      "text/plain": [
       "(192, 60, 1)"
      ]
     },
     "execution_count": 13,
     "metadata": {},
     "output_type": "execute_result"
    }
   ],
   "source": [
    "testData = pd.read_csv('Google_test_data.csv')\n",
    "testData[\"Close\"]=pd.to_numeric(testData.Close,errors='coerce')\n",
    "testData = testData.dropna()\n",
    "testData = testData.iloc[:,4:5]\n",
    "y_test = testData.iloc[60:,0:].values \n",
    "#input array for the model\n",
    "inputClosing = testData.iloc[:,0:].values \n",
    "inputClosing_scaled = sc.transform(inputClosing)\n",
    "inputClosing_scaled.shape\n",
    "X_test = []\n",
    "length = len(testData)\n",
    "timestep = 60\n",
    "for i in range(timestep,length):  \n",
    "    X_test.append(inputClosing_scaled[i-timestep:i,0])\n",
    "X_test = np.array(X_test)\n",
    "X_test = np.reshape(X_test,(X_test.shape[0],X_test.shape[1],1))\n",
    "X_test.shape"
   ]
  },
  {
   "cell_type": "code",
   "execution_count": 14,
   "metadata": {},
   "outputs": [
    {
     "name": "stdout",
     "output_type": "stream",
     "text": [
      "6/6 [==============================] - 3s 39ms/step\n"
     ]
    },
    {
     "data": {
      "text/plain": [
       "array([[1.1859483],\n",
       "       [1.1878371],\n",
       "       [1.1984948],\n",
       "       [1.2146101],\n",
       "       [1.2273599],\n",
       "       [1.227039 ],\n",
       "       [1.2145638],\n",
       "       [1.1977514],\n",
       "       [1.1873267],\n",
       "       [1.1848751],\n",
       "       [1.1786546],\n",
       "       [1.1679887],\n",
       "       [1.1583911],\n",
       "       [1.1494962],\n",
       "       [1.1475314],\n",
       "       [1.1517068],\n",
       "       [1.1687468],\n",
       "       [1.1953973],\n",
       "       [1.2255875],\n",
       "       [1.2553699],\n",
       "       [1.2670063],\n",
       "       [1.2638102],\n",
       "       [1.2448705],\n",
       "       [1.217955 ],\n",
       "       [1.1939101],\n",
       "       [1.180454 ],\n",
       "       [1.1774093],\n",
       "       [1.1768605],\n",
       "       [1.1696109],\n",
       "       [1.1588277],\n",
       "       [1.1471077],\n",
       "       [1.1340071],\n",
       "       [1.1146495],\n",
       "       [1.0909413],\n",
       "       [1.0816617],\n",
       "       [1.0910611],\n",
       "       [1.111935 ],\n",
       "       [1.1353472],\n",
       "       [1.157356 ],\n",
       "       [1.1683257],\n",
       "       [1.1798251],\n",
       "       [1.1940575],\n",
       "       [1.2106426],\n",
       "       [1.2260338],\n",
       "       [1.2363992],\n",
       "       [1.2377328],\n",
       "       [1.2285725],\n",
       "       [1.2204975],\n",
       "       [1.2185395],\n",
       "       [1.224184 ],\n",
       "       [1.2363557],\n",
       "       [1.2443577],\n",
       "       [1.24637  ],\n",
       "       [1.2434171],\n",
       "       [1.2419575],\n",
       "       [1.2386632],\n",
       "       [1.2310461],\n",
       "       [1.2274038],\n",
       "       [1.235997 ],\n",
       "       [1.2528256],\n",
       "       [1.276802 ],\n",
       "       [1.3053603],\n",
       "       [1.3250211],\n",
       "       [1.3281921],\n",
       "       [1.3172187],\n",
       "       [1.2991048],\n",
       "       [1.2868602],\n",
       "       [1.2832215],\n",
       "       [1.2864734],\n",
       "       [1.2911708],\n",
       "       [1.295812 ],\n",
       "       [1.2983752],\n",
       "       [1.2946318],\n",
       "       [1.2893453],\n",
       "       [1.2850009],\n",
       "       [1.2839084],\n",
       "       [1.2859418],\n",
       "       [1.2906395],\n",
       "       [1.3015302],\n",
       "       [1.3178445],\n",
       "       [1.3387932],\n",
       "       [1.3586732],\n",
       "       [1.3698443],\n",
       "       [1.3714536],\n",
       "       [1.3748466],\n",
       "       [1.3863142],\n",
       "       [1.4027365],\n",
       "       [1.4167794],\n",
       "       [1.424835 ],\n",
       "       [1.4268328],\n",
       "       [1.4283059],\n",
       "       [1.4369558],\n",
       "       [1.4525479],\n",
       "       [1.4630264],\n",
       "       [1.4621488],\n",
       "       [1.4504478],\n",
       "       [1.4306532],\n",
       "       [1.4079245],\n",
       "       [1.3889676],\n",
       "       [1.3822141],\n",
       "       [1.387971 ],\n",
       "       [1.4024032],\n",
       "       [1.4217824],\n",
       "       [1.4387236],\n",
       "       [1.4490999],\n",
       "       [1.4512326],\n",
       "       [1.4487919],\n",
       "       [1.4453342],\n",
       "       [1.4459375],\n",
       "       [1.4509356],\n",
       "       [1.4594337],\n",
       "       [1.4709489],\n",
       "       [1.4824468],\n",
       "       [1.4946803],\n",
       "       [1.5097933],\n",
       "       [1.5224546],\n",
       "       [1.532148 ],\n",
       "       [1.5405389],\n",
       "       [1.5511072],\n",
       "       [1.5350033],\n",
       "       [1.492525 ],\n",
       "       [1.4386106],\n",
       "       [1.3949102],\n",
       "       [1.3701619],\n",
       "       [1.359188 ],\n",
       "       [1.3553916],\n",
       "       [1.354535 ],\n",
       "       [1.3557683],\n",
       "       [1.3502978],\n",
       "       [1.3364381],\n",
       "       [1.3303156],\n",
       "       [1.3386551],\n",
       "       [1.3528776],\n",
       "       [1.3605663],\n",
       "       [1.3625621],\n",
       "       [1.3617047],\n",
       "       [1.3573192],\n",
       "       [1.3491601],\n",
       "       [1.3397278],\n",
       "       [1.3269459],\n",
       "       [1.3134416],\n",
       "       [1.2984638],\n",
       "       [1.2675923],\n",
       "       [1.2303455],\n",
       "       [1.194122 ],\n",
       "       [1.1658502],\n",
       "       [1.1536343],\n",
       "       [1.159824 ],\n",
       "       [1.1782689],\n",
       "       [1.2006127],\n",
       "       [1.223399 ],\n",
       "       [1.2423377],\n",
       "       [1.2570218],\n",
       "       [1.2697433],\n",
       "       [1.2799453],\n",
       "       [1.2889887],\n",
       "       [1.2988411],\n",
       "       [1.3067535],\n",
       "       [1.3041493],\n",
       "       [1.2906263],\n",
       "       [1.2705641],\n",
       "       [1.2510511],\n",
       "       [1.2403336],\n",
       "       [1.2422782],\n",
       "       [1.2558895],\n",
       "       [1.2775747],\n",
       "       [1.2971194],\n",
       "       [1.3118654],\n",
       "       [1.3248782],\n",
       "       [1.3369592],\n",
       "       [1.3470706],\n",
       "       [1.3553821],\n",
       "       [1.3620616],\n",
       "       [1.3647915],\n",
       "       [1.3637036],\n",
       "       [1.356063 ],\n",
       "       [1.3462682],\n",
       "       [1.3395442],\n",
       "       [1.3348997],\n",
       "       [1.33035  ],\n",
       "       [1.3555806],\n",
       "       [1.4023694],\n",
       "       [1.449863 ],\n",
       "       [1.4829415],\n",
       "       [1.4964334],\n",
       "       [1.4905412],\n",
       "       [1.4621904],\n",
       "       [1.4272033],\n",
       "       [1.3975147],\n",
       "       [1.3859769],\n",
       "       [1.3863173],\n",
       "       [1.3889072]], dtype=float32)"
      ]
     },
     "execution_count": 14,
     "metadata": {},
     "output_type": "execute_result"
    }
   ],
   "source": [
    "y_pred = model.predict(X_test)\n",
    "y_pred"
   ]
  },
  {
   "cell_type": "code",
   "execution_count": 15,
   "metadata": {},
   "outputs": [],
   "source": [
    "predicted_price = sc.inverse_transform(y_pred)"
   ]
  },
  {
   "cell_type": "code",
   "execution_count": 16,
   "metadata": {},
   "outputs": [
    {
     "data": {
      "image/png": "[encoded data removed]",
      "text/plain": [
       "<Figure size 640x480 with 1 Axes>"
      ]
     },
     "metadata": {},
     "output_type": "display_data"
    }
   ],
   "source": [
    "plt.plot(y_test, color = 'red', label = 'Actual Stock Price')\n",
    "plt.plot(predicted_price, color = 'green', label = 'Predicted Stock Price')\n",
    "plt.title('Google Stock Price Prediction')\n",
    "plt.xlabel('Time')\n",
    "plt.ylabel('Stock Price')\n",
    "plt.legend()\n",
    "plt.show()"
   ]
  },
  {
   "cell_type": "code",
   "execution_count": null,
   "metadata": {},
   "outputs": [],
   "source": []
  }
 ],
 "metadata": {
  "kernelspec": {
   "display_name": "Python 3 (ipykernel)",
   "language": "python",
   "name": "python3"
  },
  "language_info": {
   "codemirror_mode": {
    "name": "ipython",
    "version": 3
   },
   "file_extension": ".py",
   "mimetype": "text/x-python",
   "name": "python",
   "nbconvert_exporter": "python",
   "pygments_lexer": "ipython3",
   "version": "3.9.13"
  }
 },
 "nbformat": 4,
 "nbformat_minor": 4
}
